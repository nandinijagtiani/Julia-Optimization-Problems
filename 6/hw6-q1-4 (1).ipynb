{
 "cells": [
  {
   "cell_type": "code",
   "execution_count": 13,
   "id": "10fc25f7-e1d4-478d-be1c-aa359fac9665",
   "metadata": {},
   "outputs": [
    {
     "name": "stdout",
     "output_type": "stream",
     "text": [
      "Minimum spell cost: 33.0\n",
      "Amount of time to reduce for A: 0.0 hours\n",
      "Amount of time to reduce for B: 0.0 hours\n",
      "Amount of time to reduce for C: 2.0 hours\n",
      "Amount of time to reduce for D: 0.0 hours\n",
      "Amount of time to reduce for E: 2.0 hours\n",
      "Amount of time to reduce for F: 0.0 hours\n",
      "Amount of time to reduce for G: 0.0 hours\n",
      "Amount of time to reduce for H: 2.0 hours\n",
      "Amount of time to reduce for I: 2.0 hours\n",
      "Amount of time to reduce for J: 1.0 hours\n",
      "Amount of time to reduce for K: 0.0 hours\n",
      "Total time now is20.0 hours\n",
      "Presolve 23 (-13) rows, 20 (-3) columns and 58 (-28) elements\n",
      "0  Obj 0 Primal inf 17.29999 (10)\n",
      "12  Obj 33\n",
      "Optimal - objective value 33\n",
      "After Postsolve, objective 33, infeasibilities - dual 0 (0), primal 0 (0)\n",
      "Optimal objective 33 - 12 iterations time 0.002, Presolve 0.00\n"
     ]
    }
   ],
   "source": [
    "using JuMP, Cbc\n",
    "\n",
    "activity= ['A','B','C','D','E','F','G','H','I','J','K']\n",
    "arcs=[('A','B'), ('A','C'), \n",
    "    ('B','D'), ('B','G'), \n",
    "    ('C','D'), ('C','F'), \n",
    "    ('D','E'), ('D','I'), \n",
    "    ('E','H'),('F','J'),('G','H'),('H','I'),('I','J'),('J','K')]\n",
    "\n",
    "a = Dict(zip(activity,[2,1,3,2,4,5,2,3,4,6,5]))\n",
    "c = Dict(zip(activity,[5,2,3,8,4,9,6,3,4,5,10]))\n",
    "\n",
    "m = Model()\n",
    "\n",
    "@variable(m, 0 <= x[i in activity])\n",
    "@variable(m, 0<=z<= 20)\n",
    "@variable(m, 0 <= y[i in activity])\n",
    "\n",
    "@objective(m, Min, sum(c[i]*y[i] for i in activity))\n",
    "\n",
    "#finding the minimum duration \n",
    "for i in activity\n",
    "    @constraint(m, y[i] <= min(a[i], 2))\n",
    "end\n",
    "\n",
    "#Precedence constraint\n",
    "@constraint(m,task_start[(i,j) in arcs],x[j]>= x[i]+a[i]-y[i]) \n",
    "#z value\n",
    "@constraint(m,max_time[i in activity],z>= x[i]+a[i]-y[i]) \n",
    "\n",
    "set_optimizer(m, Cbc.Optimizer)\n",
    "optimize!(m)\n",
    "\n",
    "println(\"Minimum spell cost: \", objective_value(m))\n",
    "for i in activity\n",
    "    println(\"Amount of time to reduce for \", i, \": \", value(y[i]), \" hours\")\n",
    "end\n",
    "\n",
    "##just to check\n",
    "total_reduction = sum(value(y[i]) for i in activity)\n",
    "total_time_now = 29 - total_reduction\n",
    "println(\"Total time now is\", total_time_now, \" hours\")"
   ]
  },
  {
   "cell_type": "code",
   "execution_count": null,
   "id": "6e9bf6c8-e431-4058-bd40-d41c64e54c17",
   "metadata": {},
   "outputs": [],
   "source": []
  }
 ],
 "metadata": {
  "kernelspec": {
   "display_name": "Julia 1.10.0",
   "language": "julia",
   "name": "julia-1.10"
  },
  "language_info": {
   "file_extension": ".jl",
   "mimetype": "application/julia",
   "name": "julia",
   "version": "1.10.0"
  }
 },
 "nbformat": 4,
 "nbformat_minor": 5
}
