{
 "cells": [
  {
   "cell_type": "code",
   "execution_count": 9,
   "id": "c43bcbf1-3132-4627-9051-c5da7148993d",
   "metadata": {},
   "outputs": [
    {
     "name": "stdout",
     "output_type": "stream",
     "text": [
      "Start time for A: 0.0\n",
      "Start time for B: 2.0\n",
      "Start time for C: 2.0\n",
      "Start time for D: 5.0\n",
      "Start time for E: 7.0\n",
      "Start time for F: 5.0\n",
      "Start time for G: 3.0\n",
      "Start time for H: 11.0\n",
      "Start time for I: 14.0\n",
      "Start time for J: 18.0\n",
      "Start time for K: 24.0\n",
      "Presolve 0 (-25) rows, 0 (-12) columns and 0 (-50) elements\n",
      "Optimal - objective value 29\n",
      "After Postsolve, objective 29, infeasibilities - dual 0 (0), primal 0 (0)\n",
      "Optimal objective 29 - 0 iterations time 0.002, Presolve 0.00\n"
     ]
    }
   ],
   "source": [
    "using JuMP, Cbc\n",
    "\n",
    "activity= ['A','B','C','D','E','F','G','H','I','J','K']\n",
    "arcs=[('A','B'), ('A','C'), \n",
    "    ('B','D'), ('B','G'), \n",
    "    ('C','D'), ('C','F'), \n",
    "    ('D','E'), ('D','I'), \n",
    "    ('E','H'),('F','J'),('G','H'),('H','I'),('I','J'),('J','K')]\n",
    "\n",
    "a= Dict(zip(activity,[2,1,3,2,4,5,2,3,4,6,5]))\n",
    "\n",
    "\n",
    "m = Model()\n",
    "\n",
    "@variable(m, 0 <= x[i in activity])\n",
    "@variable(m, z >=0)\n",
    "\n",
    "@objective(m, Min, z)\n",
    "\n",
    "#Precedence constraint\n",
    "@constraint(m,task_start[(i,j) in arcs ],x[j]>= x[i]+a[i]) \n",
    "#z value\n",
    "@constraint(m,max_time[i in activity],z>= x[i]+a[i]) \n",
    "\n",
    "set_optimizer(m, Cbc.Optimizer)\n",
    "optimize!(m)\n",
    "\n",
    "\n",
    "for i in activity\n",
    "    println(\"Start time for \", i, \": \", value(x[i]))\n",
    "end"
   ]
  },
  {
   "cell_type": "code",
   "execution_count": null,
   "id": "99c29169-dc78-4e84-b063-3a36a0269fdc",
   "metadata": {},
   "outputs": [],
   "source": []
  }
 ],
 "metadata": {
  "kernelspec": {
   "display_name": "Julia 1.10.0",
   "language": "julia",
   "name": "julia-1.10"
  },
  "language_info": {
   "file_extension": ".jl",
   "mimetype": "application/julia",
   "name": "julia",
   "version": "1.10.0"
  }
 },
 "nbformat": 4,
 "nbformat_minor": 5
}
