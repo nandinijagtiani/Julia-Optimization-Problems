{
 "cells": [
  {
   "cell_type": "code",
   "execution_count": 15,
   "id": "31d81efc-de07-4b58-86a0-3c41fae384d6",
   "metadata": {},
   "outputs": [
    {
     "name": "stdout",
     "output_type": "stream",
     "text": [
      "Maximum flow value: 41.0\n",
      "Flow on arc (1, 2) = 15.0\n",
      "Flow on arc (1, 3) = 14.0\n",
      "Flow on arc (1, 4) = 12.0\n",
      "Flow on arc (2, 5) = 3.0\n",
      "Flow on arc (2, 6) = 4.0\n",
      "Flow on arc (2, 7) = 8.0\n",
      "Flow on arc (3, 5) = 5.0\n",
      "Flow on arc (3, 6) = 0.0\n",
      "Flow on arc (3, 7) = 1.0\n",
      "Flow on arc (3, 8) = 8.0\n",
      "Flow on arc (4, 5) = 4.0\n",
      "Flow on arc (4, 6) = 8.0\n",
      "Flow on arc (5, 9) = 12.0\n",
      "Flow on arc (6, 9) = 12.0\n",
      "Flow on arc (7, 9) = 9.0\n",
      "Flow on arc (8, 9) = 8.0\n",
      "Flow on arc (9, 1) = 41.0\n",
      "Presolve 7 (-19) rows, 15 (-2) columns and 30 (-21) elements\n",
      "Perturbing problem by 0.001% of 1 - largest nonzero change 4.7050271e-05 ( 0.0047050271%) - largest zero change 4.6564243e-05\n",
      "0  Obj -0 Dual inf 2.9998753 (3)\n",
      "8  Obj 40.99566\n",
      "Optimal - objective value 41\n",
      "After Postsolve, objective 41, infeasibilities - dual 0 (0), primal 0 (0)\n",
      "Optimal objective 41 - 8 iterations time 0.002, Presolve 0.00\n"
     ]
    }
   ],
   "source": [
    "using JuMP, Cbc\n",
    "\n",
    "nodes = 1:9\n",
    "\n",
    "arcs = [(1,2),(1,3),(1,4),\n",
    "        (2,5),(2,6),(2,7),\n",
    "        (3,5),(3,6),(3,7),(3,8),\n",
    "        (4,5),(4,6),\n",
    "        (5,9),(6,9),(7,9),(8,9),\n",
    "        (9,1)]\n",
    "\n",
    "c=Dict(zip(arcs,[15,14,12,8,8,8,8,8,8,8,8,8,12,12,12,12,100000000]))\n",
    "\n",
    "m = Model()\n",
    "\n",
    "@variable(m, 0 <= x[a in arcs])\n",
    "\n",
    "@objective(m,Max, x[(9,1)])\n",
    "\n",
    "@constraint(m,flow[i in nodes], \n",
    "        sum(x[(i,j)] for j in nodes if (i,j) in arcs) -\n",
    "        sum(x[(j,i)] for j in nodes if (j,i) in arcs) \n",
    "        == 0)\n",
    "\n",
    "@constraint(m,cap[a in arcs],x[a] <= c[a])\n",
    "\n",
    "set_optimizer(m, Cbc.Optimizer)\n",
    "optimize!(m)\n",
    "\n",
    "println(\"Maximum flow value: \", objective_value(m))\n",
    "for a in arcs\n",
    "    println(\"Flow on arc \", a, \" = \", value(x[a]))\n",
    "end"
   ]
  },
  {
   "cell_type": "code",
   "execution_count": null,
   "id": "f2244134-bc1d-4068-9193-2744f3fe96ce",
   "metadata": {},
   "outputs": [],
   "source": []
  }
 ],
 "metadata": {
  "kernelspec": {
   "display_name": "Julia 1.10.0",
   "language": "julia",
   "name": "julia-1.10"
  },
  "language_info": {
   "file_extension": ".jl",
   "mimetype": "application/julia",
   "name": "julia",
   "version": "1.10.0"
  }
 },
 "nbformat": 4,
 "nbformat_minor": 5
}
