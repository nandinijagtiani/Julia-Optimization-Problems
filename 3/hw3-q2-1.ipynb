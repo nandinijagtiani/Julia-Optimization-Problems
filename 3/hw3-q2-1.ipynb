{
 "cells": [
  {
   "cell_type": "code",
   "execution_count": 4,
   "id": "6cb4cfc0-e715-4ae6-ba52-f6f5f407db76",
   "metadata": {},
   "outputs": [
    {
     "name": "stdout",
     "output_type": "stream",
     "text": [
      "Optimal investment fractions:\n",
      "Project 1: 0.0\n",
      "Project 2: 0.0\n",
      "Project 3: 0.14285714285714288\n",
      "Project 4: 0.0\n",
      "Project 5: 0.8571428571428572\n",
      "Maximized NPV: $9.42857142857143 million dollars\n",
      "Presolve 8 (-1) rows, 5 (0) columns and 40 (-5) elements\n",
      "0  Obj -0 Primal inf 1.0282846 (1) Dual inf 23.329274 (5)\n",
      "5  Obj 9.4285714\n",
      "Optimal - objective value 9.4285714\n",
      "After Postsolve, objective 9.4285714, infeasibilities - dual 0 (0), primal 0 (0)\n",
      "Optimal objective 9.428571429 - 5 iterations time 0.002, Presolve 0.00\n"
     ]
    }
   ],
   "source": [
    "using JuMP, Cbc\n",
    "\n",
    "# model\n",
    "m = Model()\n",
    "\n",
    "#decision variables\n",
    "@variable(m, 0 <= x[1:5] <= 1)  # x[i] is the fraction invested in project i\n",
    "\n",
    "# NPV coefficients for each project\n",
    "NPVs = [6, 5, 12, 12, 9]  \n",
    "\n",
    "# cost coefficients for each project and year\n",
    "costs = [\n",
    "    [6, 2, 8, 10, 2],  # Costs for year 1\n",
    "    [2, 5, 9, 11, 9],  # Costs for year 2\n",
    "    [4, 3, 10, 9, 6],  # Costs for year 3\n",
    "    [2, 3, 4, 8, 3]    # Costs for year 4\n",
    "]\n",
    "\n",
    "# budget for each year\n",
    "annual_budget = 20   # Replace with the actual annual budget value\n",
    "\n",
    "# Define the objective function (Maximize NPV)\n",
    "@objective(m, Max, sum(NPVs[i] * x[i] for i in 1:5))\n",
    "\n",
    "# budget constraints for each year\n",
    "\n",
    "for t in 1:length(costs)\n",
    "    @constraint(m, sum(costs[t][i] * x[i] for i in 1:5) <= annual_budget)\n",
    "end\n",
    "\n",
    "#costs[t][i] gets cost of each project in year t\n",
    "# x[i] gets fraction of the investment allocated to project x \n",
    "#calculates the total investment cost for year t across all projects, weighted by the fraction invested in each project. \n",
    "\n",
    "#constraint for years 3 and 4 \n",
    "for t in 1:length(costs)\n",
    "    @constraint(m, sum(costs[t][i] * x[i] for i in 3:4) <= 0.4 * sum(costs[t][i] * x[i] for i in 1:5))\n",
    "end\n",
    "\n",
    "# Investment fraction constraint\n",
    "@constraint(m, sum(x[i] for i in 1:5) == 1)\n",
    "\n",
    "set_optimizer(m, Cbc.Optimizer)\n",
    "\n",
    "# Solve the model\n",
    "optimize!(m)\n",
    "\n",
    "# Output the solution\n",
    "println(\"Optimal investment fractions:\")\n",
    "for i in 1:5\n",
    "    println(\"Project $i: \", value(x[i]))  # Corrected from value() to getvalue()\n",
    "end\n",
    "println(\"Maximized NPV: \\$\", objective_value(m), \" million dollars\")  # Corrected from objective_value() to getobjectivevalue()\n"
   ]
  },
  {
   "cell_type": "code",
   "execution_count": null,
   "id": "f2d7f80d-4fd8-467e-93f8-26cd5f949d4f",
   "metadata": {},
   "outputs": [],
   "source": []
  }
 ],
 "metadata": {
  "kernelspec": {
   "display_name": "Julia 1.10.0",
   "language": "julia",
   "name": "julia-1.10"
  },
  "language_info": {
   "file_extension": ".jl",
   "mimetype": "application/julia",
   "name": "julia",
   "version": "1.10.0"
  }
 },
 "nbformat": 4,
 "nbformat_minor": 5
}
