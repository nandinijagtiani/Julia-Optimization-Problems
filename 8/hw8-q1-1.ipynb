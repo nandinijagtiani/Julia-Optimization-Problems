{
 "cells": [
  {
   "cell_type": "code",
   "execution_count": 11,
   "id": "a33d8eb6-23b0-4325-83a7-a9f3dd5aaa5d",
   "metadata": {},
   "outputs": [
    {
     "name": "stdout",
     "output_type": "stream",
     "text": [
      "Optimal objective value: 51.0\n",
      "Selected trips:\n",
      "Trip 1 selected: 0.0\n",
      "Trip 2 selected: 0.0\n",
      "Trip 3 selected: 0.0\n",
      "Trip 4 selected: 0.0\n",
      "Trip 5 selected: 1.0\n",
      "Trip 6 selected: 0.0\n",
      "Trip 7 selected: 0.0\n",
      "Trip 8 selected: 1.0\n",
      "Welcome to the CBC MILP Solver \n",
      "Version: 2.10.8 \n",
      "Build Date: Oct 26 2022 \n",
      "\n",
      "command line - Cbc_C_Interface -solve -quit (default strategy 1)\n",
      "Continuous objective value is 51 - 0.00 seconds\n",
      "Cgl0004I processed model has 4 rows, 8 columns (8 integer (8 of which binary)) and 12 elements\n",
      "Cutoff increment increased from 1e-05 to 0.9999\n",
      "Cbc0038I Initial state - 0 integers unsatisfied sum - 0\n",
      "Cbc0038I Solution found of 51\n",
      "Cbc0038I Before mini branch and bound, 8 integers at bound fixed and 0 continuous\n",
      "Cbc0038I Mini branch and bound did not improve solution (0.00 seconds)\n",
      "Cbc0038I After 0.00 seconds - Feasibility pump exiting with objective of 51 - took 0.00 seconds\n",
      "Cbc0012I Integer solution of 51 found by feasibility pump after 0 iterations and 0 nodes (0.00 seconds)\n",
      "Cbc0001I Search completed - best objective 51, took 0 iterations and 0 nodes (0.00 seconds)\n",
      "Cbc0035I Maximum depth 0, 0 variables fixed on reduced cost\n",
      "Cuts at root node changed objective from 51 to 51\n",
      "Probing was tried 0 times and created 0 cuts of which 0 were active after adding rounds of cuts (0.000 seconds)\n",
      "Gomory was tried 0 times and created 0 cuts of which 0 were active after adding rounds of cuts (0.000 seconds)\n",
      "Knapsack was tried 0 times and created 0 cuts of which 0 were active after adding rounds of cuts (0.000 seconds)\n",
      "Clique was tried 0 times and created 0 cuts of which 0 were active after adding rounds of cuts (0.000 seconds)\n",
      "MixedIntegerRounding2 was tried 0 times and created 0 cuts of which 0 were active after adding rounds of cuts (0.000 seconds)\n",
      "FlowCover was tried 0 times and created 0 cuts of which 0 were active after adding rounds of cuts (0.000 seconds)\n",
      "TwoMirCuts was tried 0 times and created 0 cuts of which 0 were active after adding rounds of cuts (0.000 seconds)\n",
      "ZeroHalf was tried 0 times and created 0 cuts of which 0 were active after adding rounds of cuts (0.000 seconds)\n",
      "\n",
      "Result - Optimal solution found\n",
      "\n",
      "Objective value:                51.00000000\n",
      "Enumerated nodes:               0\n",
      "Total iterations:               0\n",
      "Time (CPU seconds):             0.00\n",
      "Time (Wallclock seconds):       0.00\n",
      "\n",
      "Total time (CPU seconds):       0.00   (Wallclock seconds):       0.00\n",
      "\n"
     ]
    }
   ],
   "source": [
    "using JuMP, Cbc\n",
    "\n",
    "S = 1:8 #set of possible trips\n",
    "R = Dict(zip(S,[10,24,14,30,21,33,27,30]))\n",
    "\n",
    "m = Model(Cbc.Optimizer)\n",
    "\n",
    "@variable(m, x[S], Bin)\n",
    "\n",
    "@objective(m, Min, sum(R[j] * x[j] for j in S))\n",
    "\n",
    "@constraint(m, x[1] + x[5] + x[7] >= 1)\n",
    "@constraint(m, x[2] + x[5] + x[6] >= 1)\n",
    "@constraint(m, x[3] + x[6] + x[8] >= 1)\n",
    "@constraint(m, x[4] + x[7] + x[8] >= 1)\n",
    "\n",
    "optimize!(m)\n",
    "\n",
    "# Print the optimal solution\n",
    "println(\"Optimal objective value: \", objective_value(m))\n",
    "println(\"Selected trips:\")\n",
    "for j in S\n",
    "        println(\"Trip \", j, \" selected: \", value(x[j]))\n",
    "end\n"
   ]
  },
  {
   "cell_type": "code",
   "execution_count": null,
   "id": "a7cb7ccd-9123-4108-b420-ac88f34af7f0",
   "metadata": {},
   "outputs": [],
   "source": []
  }
 ],
 "metadata": {
  "kernelspec": {
   "display_name": "Julia 1.10.0",
   "language": "julia",
   "name": "julia-1.10"
  },
  "language_info": {
   "file_extension": ".jl",
   "mimetype": "application/julia",
   "name": "julia",
   "version": "1.10.0"
  }
 },
 "nbformat": 4,
 "nbformat_minor": 5
}
