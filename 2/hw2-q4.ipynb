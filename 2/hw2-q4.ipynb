{
 "cells": [
  {
   "cell_type": "code",
   "execution_count": 1,
   "id": "38c9211b-1e45-4d2e-8aac-64e2ece01d61",
   "metadata": {},
   "outputs": [
    {
     "name": "stderr",
     "output_type": "stream",
     "text": [
      "\u001b[32m\u001b[1m    Updating\u001b[22m\u001b[39m registry at `~/.julia/registries/General.toml`\n",
      "\u001b[32m\u001b[1m   Resolving\u001b[22m\u001b[39m package versions...\n",
      "\u001b[32m\u001b[1m  No Changes\u001b[22m\u001b[39m to `~/.julia/environments/v1.10/Project.toml`\n",
      "\u001b[32m\u001b[1m  No Changes\u001b[22m\u001b[39m to `~/.julia/environments/v1.10/Manifest.toml`\n"
     ]
    }
   ],
   "source": [
    "using Pkg \n",
    "Pkg.add(\"NamedArrays\")\n",
    "Pkg.build(\"NamedArrays\")"
   ]
  },
  {
   "cell_type": "code",
   "execution_count": 2,
   "id": "c3756b00-2bb7-4ab9-8533-87dd9e229056",
   "metadata": {},
   "outputs": [
    {
     "name": "stdout",
     "output_type": "stream",
     "text": [
      "Optimal cost: $17550.0\n",
      "Number of ushers starting work each shift:\n",
      "Type A: 45.0\n",
      "Type B: 8.0\n",
      "Type C: 12.0\n",
      "Type D: 5.0\n",
      "Presolve 5 (-2) rows, 4 (0) columns and 13 (-3) elements\n",
      "0  Obj 2400 Primal inf 131 (5)\n",
      "3  Obj 17550\n",
      "Optimal - objective value 17550\n",
      "After Postsolve, objective 17550, infeasibilities - dual 0 (0), primal 0 (0)\n",
      "Optimal objective 17550 - 3 iterations time 0.002, Presolve 0.00\n"
     ]
    }
   ],
   "source": [
    "using JuMP, Cbc\n",
    "\n",
    "# Days and ushers are now directly mapped to integers for easier indexing\n",
    "days = 1:7 # 1=Sunday, 2=Monday, ..., 7=Saturday\n",
    "ushers_shift = 1:4 # 1=A, 2=B, 3=C, 4=D\n",
    "\n",
    "coverage = \n",
    "[1 0 0 0 0 1 1;\n",
    " 1 1 1 1 1 0 0;\n",
    " 0 0 1 1 1 1 0;\n",
    " 1 0 0 0 1 1 1]\n",
    "\n",
    "ushers_req = [30,8,15,20,25,30,50]\n",
    "\n",
    "shift_cost = [250,300,200,300]\n",
    "\n",
    "m = Model()\n",
    "\n",
    "# number of ushers\n",
    "@variable(m, x[ushers_shift] >= 0)\n",
    "\n",
    "#objective is to minimize salary costs \n",
    "@objective(m, Min, sum(shift_cost[j]*x[j] for j in ushers_shift))\n",
    "\n",
    "@constraint(m, days_coverage[i in days],\n",
    "    sum(coverage[j,i]*x[j] for j in ushers_shift)\n",
    "        >= ushers_req[i])\n",
    "\n",
    "set_optimizer(m, Cbc.Optimizer)\n",
    "optimize!(m)\n",
    "\n",
    "println(\"Optimal cost: \\$\", objective_value(m))\n",
    "\n",
    "\n",
    "#for j in ushers \n",
    " #   println(j, \": \", value(x[j]))\n",
    "#end\n",
    "\n",
    "println(\"Number of ushers starting work each shift:\")\n",
    "for j in ushers_shift\n",
    "    println(\"Type \", ['A','B','C','D'][j], \": \", value(x[j]))\n",
    "end\n"
   ]
  },
  {
   "cell_type": "code",
   "execution_count": null,
   "id": "a2614232-d382-4dea-b982-1dbfc39a6e37",
   "metadata": {},
   "outputs": [],
   "source": []
  }
 ],
 "metadata": {
  "kernelspec": {
   "display_name": "Julia 1.10.0",
   "language": "julia",
   "name": "julia-1.10"
  },
  "language_info": {
   "file_extension": ".jl",
   "mimetype": "application/julia",
   "name": "julia",
   "version": "1.10.0"
  }
 },
 "nbformat": 4,
 "nbformat_minor": 5
}
