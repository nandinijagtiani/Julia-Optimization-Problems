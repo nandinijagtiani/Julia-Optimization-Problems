{
 "cells": [
  {
   "cell_type": "code",
   "execution_count": 1,
   "id": "d511d5bc-f06d-4955-937f-50827bc6793a",
   "metadata": {},
   "outputs": [
    {
     "name": "stdout",
     "output_type": "stream",
     "text": [
      "optimal value of x1: 16.66666666666667\n",
      "optimal value of x2: 0.0\n",
      "optimal value of x3: 0.0\n",
      "optimal value of x4: 0.0\n",
      "optimal value of x5: 83.33333333333333\n",
      "optimal objective: 583.3333333333334\n",
      "Presolve 4 (0) rows, 5 (0) columns and 19 (0) elements\n",
      "0  Obj 0 Primal inf 190.27778 (3)\n",
      "2  Obj 583.33333\n",
      "Optimal - objective value 583.33333\n",
      "Optimal objective 583.3333333 - 2 iterations time 0.002\n"
     ]
    }
   ],
   "source": [
    "using JuMP, Cbc\n",
    "\n",
    "m = Model(Cbc.Optimizer)\n",
    "\n",
    "@variable(m, x1 >= 0)\n",
    "@variable(m, x2 >= 0)\n",
    "@variable(m, x3 >= 0)\n",
    "@variable(m, x4 >= 0)\n",
    "@variable(m, x5 >= 0)\n",
    "\n",
    "@objective(m, Min, 5.5x1+8.5x2+7.0x3+6.2x4+5.9x5)\n",
    "\n",
    "@constraint(m, total_units,x1+x2+x3+x4+x5 == 100)\n",
    "@constraint(m, area_constraint,4x1 +3.5x2 +6x3 +3.0x4 +5.0x5 <= 550)\n",
    "@constraint(m, height_constraint,10x1+36x2+15x3+18x4+12x5 >= 1000)\n",
    "@constraint(m, flower_constraint,0*x1+6x2+4x3+8x4+6x5 >= 500)\n",
    "\n",
    "\n",
    "set_optimizer(m, Cbc.Optimizer)\n",
    "\n",
    "optimize!(m)\n",
    "\n",
    "# display the solution\n",
    "println(\"optimal value of x1: \", value(x1))\n",
    "println(\"optimal value of x2: \", value(x2))\n",
    "println(\"optimal value of x3: \", value(x3))\n",
    "println(\"optimal value of x4: \", value(x4))\n",
    "println(\"optimal value of x5: \", value(x5))\n",
    "println(\"optimal objective: \", objective_value(m))"
   ]
  },
  {
   "cell_type": "code",
   "execution_count": null,
   "id": "32a3d37e-2cfe-464d-acbe-c9cbd25ce066",
   "metadata": {},
   "outputs": [],
   "source": []
  }
 ],
 "metadata": {
  "kernelspec": {
   "display_name": "Julia 1.10.0",
   "language": "julia",
   "name": "julia-1.10"
  },
  "language_info": {
   "file_extension": ".jl",
   "mimetype": "application/julia",
   "name": "julia",
   "version": "1.10.0"
  }
 },
 "nbformat": 4,
 "nbformat_minor": 5
}
