{
 "cells": [
  {
   "cell_type": "code",
   "execution_count": 1,
   "id": "4d004e88-ebc8-4dc6-8220-0651c6260d97",
   "metadata": {},
   "outputs": [
    {
     "name": "stderr",
     "output_type": "stream",
     "text": [
      "\u001b[32m\u001b[1m   Resolving\u001b[22m\u001b[39m package versions...\n",
      "\u001b[32m\u001b[1m  No Changes\u001b[22m\u001b[39m to `~/.julia/environments/v1.10/Project.toml`\n",
      "\u001b[32m\u001b[1m  No Changes\u001b[22m\u001b[39m to `~/.julia/environments/v1.10/Manifest.toml`\n"
     ]
    }
   ],
   "source": [
    "using Pkg \n",
    "Pkg.add(\"NamedArrays\")\n",
    "Pkg.build(\"NamedArrays\")"
   ]
  },
  {
   "cell_type": "code",
   "execution_count": 2,
   "id": "8a72a2fb-26f4-4510-801f-288f16cdef47",
   "metadata": {},
   "outputs": [
    {
     "name": "stdout",
     "output_type": "stream",
     "text": [
      "Minimum cost of planting this garden: $736.5057915057914\n",
      "Number of plants purchased: \n",
      "p1: 100.0\n",
      "p2: 0.0\n",
      "p3: 13.256113256113256\n",
      "p4: 13.191763191763183\n",
      "p5: 0.0\n",
      "p6: 0.0\n",
      "Presolve 5 (0) rows, 6 (0) columns and 30 (0) elements\n",
      "0  Obj 0 Primal inf 425.28617 (5)\n",
      "2  Obj 736.50579\n",
      "Optimal - objective value 736.50579\n",
      "Optimal objective 736.5057915 - 2 iterations time 0.002\n"
     ]
    }
   ],
   "source": [
    "using JuMP, Cbc\n",
    "properties = [:height,:flowers,:goodsmell,:beauty,:goodpollinator]\n",
    "plants = [:p1,:p2,:p3,:p4,:p5,:p6]\n",
    "cost_per_plant = Dict(zip(plants,[5.5,7.3,7.8,6.3,5.0,7.9]))\n",
    "\n",
    "property_lower_bound = Dict(zip(properties,[315,500,450,400,300]))\n",
    "\n",
    "using NamedArrays\n",
    "# array containing amount of property (row) in each plant (column)\n",
    "prop_per_plant = NamedArray([3.1 4 1.5 1.8 3.3 5\n",
    "4.3 4.3 1.3 4 1.1 1.7\n",
    "3.6 1.8 4.6 2.2 1.5 0.7\n",
    "4 1.6 4.6 4 4 2.8\n",
    "3.6 4.9 2.6 1.9 1.3 2.4],\n",
    "(properties,plants),(\"property\",\"plant\"))\n",
    "\n",
    "# max number of each type of plant is 100\n",
    "max_buy = 100;\n",
    "\n",
    "m = Model()\n",
    "\n",
    "#Number of units purchased for plant p \n",
    "@variable(m,0 <= x[plants] <= max_buy)\n",
    "\n",
    "#Objective - Minimize the cost of planting the garden, cost per plant * number of plants \n",
    "@objective(m,Min, sum(cost_per_plant[p]x[p] for p in plants))\n",
    "\n",
    "#constraints \n",
    "@constraint(m, minreqc[i in properties],\n",
    "    sum(x[p]prop_per_plant[i,p] for p in plants) >= property_lower_bound[i])\n",
    "\n",
    "set_optimizer(m, Cbc.Optimizer)\n",
    "optimize!(m)\n",
    "\n",
    "#print total cost \n",
    "println(\"Minimum cost of planting this garden: \\$\", objective_value(m))\n",
    "\n",
    "println(\"Number of plants purchased: \")\n",
    "for p in plants \n",
    "    println(p, \": \", value(x[p]))\n",
    "end\n",
    "\n"
   ]
  },
  {
   "cell_type": "code",
   "execution_count": null,
   "id": "95fc5200-3467-4da1-b5b0-fe185d6d60ec",
   "metadata": {},
   "outputs": [],
   "source": []
  }
 ],
 "metadata": {
  "kernelspec": {
   "display_name": "Julia 1.10.0",
   "language": "julia",
   "name": "julia-1.10"
  },
  "language_info": {
   "file_extension": ".jl",
   "mimetype": "application/julia",
   "name": "julia",
   "version": "1.10.0"
  }
 },
 "nbformat": 4,
 "nbformat_minor": 5
}
