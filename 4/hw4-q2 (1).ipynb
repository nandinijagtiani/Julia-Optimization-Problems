{
 "cells": [
  {
   "cell_type": "code",
   "execution_count": 1,
   "id": "060bdf78-3775-4e8e-acb1-b2d5221937ec",
   "metadata": {},
   "outputs": [
    {
     "name": "stdout",
     "output_type": "stream",
     "text": [
      "Number of vats of milk produced with Method 1: 33.33333333333333\n",
      "Number of vats of milk produced with Method 2: 50.00000000000001\n",
      "Number of cups of Speciality Spread produced: 175.00000000000003\n",
      "Optimal objective value: 4283.333333333334\n",
      "Presolve 4 (-1) rows, 3 (0) columns and 10 (-1) elements\n",
      "0  Obj -0 Dual inf 107 (3)\n",
      "4  Obj 4283.3333\n",
      "Optimal - objective value 4283.3333\n",
      "After Postsolve, objective 4283.3333, infeasibilities - dual 0 (0), primal 0 (0)\n",
      "Optimal objective 4283.333333 - 4 iterations time 0.002, Presolve 0.00\n"
     ]
    }
   ],
   "source": [
    "using JuMP, Cbc\n",
    "m = Model()\n",
    "\n",
    "@variable(m, x1>=0)\n",
    "@variable(m, x2>=0)\n",
    "@variable(m, y1>=0)\n",
    "\n",
    "@objective(m, Max, 49x1+53x2+5y1)\n",
    "\n",
    "@constraint(m, sb, 9x1+4x2 <= 500)\n",
    "@constraint(m, wheels, 2x1+3x2 <= 250)\n",
    "@constraint(m, waste, 30x1 + 40x2 + 12y1 <= 3000)\n",
    "@constraint(m, spread, y1 <= 400)\n",
    "@constraint(m, labor, 1.7x1+2.5x2+3y1 <=300)\n",
    "\n",
    "y1 = (3x1+40x2)/12\n",
    "\n",
    "set_optimizer(m,Cbc.Optimizer)\n",
    "\n",
    "optimize!(m)\n",
    "\n",
    "println(\"Number of vats of milk produced with Method 1: \", value(x1))\n",
    "println(\"Number of vats of milk produced with Method 2: \", value(x2))\n",
    "println(\"Number of cups of Speciality Spread produced: \", value(y1))\n",
    "\n",
    "println(\"Optimal objective value: \", objective_value(m))\n"
   ]
  },
  {
   "cell_type": "code",
   "execution_count": null,
   "id": "76c45608-b3bb-45ca-8024-51f7524ac07b",
   "metadata": {},
   "outputs": [],
   "source": []
  }
 ],
 "metadata": {
  "kernelspec": {
   "display_name": "Julia 1.10.0",
   "language": "julia",
   "name": "julia-1.10"
  },
  "language_info": {
   "file_extension": ".jl",
   "mimetype": "application/julia",
   "name": "julia",
   "version": "1.10.0"
  }
 },
 "nbformat": 4,
 "nbformat_minor": 5
}
