{
 "cells": [
  {
   "cell_type": "code",
   "execution_count": 32,
   "metadata": {},
   "outputs": [
    {
     "name": "stdout",
     "output_type": "stream",
     "text": [
      "Presolve 2 (-3) rows, 2 (-4) columns and 4 (-8) elements\n",
      "0  Obj 29600000 Primal inf 2000 (1)\n",
      "1  Obj 30200000\n",
      "Optimal - objective value 30200000\n",
      "After Postsolve, objective 30200000, infeasibilities - dual 0 (0), primal 0 (0)\n",
      "Optimal objective 30200000 - 1 iterations time 0.002, Presolve 0.00\n"
     ]
    },
    {
     "data": {
      "text/plain": [
       "* Solver : COIN Branch-and-Cut (Cbc)\n",
       "\n",
       "* Status\n",
       "  Result count       : 1\n",
       "  Termination status : OPTIMAL\n",
       "  Message from the solver:\n",
       "  \"Cbc_status          = finished - check isProvenOptimal or isProvenInfeasible to see if solution found (or check value of best solution)\n",
       "Cbc_secondaryStatus = unset (status_ will also be -1)\n",
       "\"\n",
       "\n",
       "* Candidate solution (result #1)\n",
       "  Primal status      : FEASIBLE_POINT\n",
       "  Dual status        : NO_SOLUTION\n",
       "  Objective value    : 3.02000e+07\n",
       "  Objective bound    : 3.02000e+07\n",
       "  Relative gap       : 0.00000e+00\n",
       "  Primal solution :\n",
       "    Dallas1 : 3.00000e+03\n",
       "    Dallas2 : 3.00000e+03\n",
       "    Dallas3 : 1.00000e+03\n",
       "    Detroit1 : 3.00000e+03\n",
       "    Detroit2 : 0.00000e+00\n",
       "    Detroit3 : 3.00000e+03\n",
       "\n",
       "* Work counters\n",
       "  Solve time (sec)   : 3.67880e-04\n",
       "  Node count         : 0\n"
      ]
     },
     "execution_count": 32,
     "metadata": {},
     "output_type": "execute_result"
    }
   ],
   "source": [
    "using JuMP, Cbc\n",
    "\n",
    "m=Model()\n",
    "\n",
    "@variable(m, 0 <= Detroit1 <= 3000)\n",
    "@variable(m, 0 <= Detroit2 <= 3000)\n",
    "@variable(m, 0 <= Detroit3 <= 3000)\n",
    "\n",
    "@variable(m, 0 <= Dallas1 <= 3000)\n",
    "@variable(m, 0 <= Dallas2 <= 3000)\n",
    "@variable(m, 0 <= Dallas3 <= 3000)\n",
    "\n",
    "\n",
    "@objective(m, Min, 2000( Detroit1 + Detroit2 +Detroit3) +1800(Dallas1 +Dallas2+Dallas3) +800Detroit1 + 600Detroit2 +300Detroit3 + 500Dallas1 + 200Dallas2 + 200Dallas3)\n",
    "\n",
    "@constraint(m, constraintDetroit, Detroit1 + Detroit2 +Detroit3 <= 6500)\n",
    "@constraint(m, constriantDallas, Dallas1 +Dallas2+Dallas3<= 7000)\n",
    "@constraint(m, city1, -(Detroit1 + Dallas1) == - 6000)\n",
    "@constraint(m, city2, -(Detroit2 +Dallas2 ) == - 3000)\n",
    "@constraint(m, city3, -(Detroit3 + Dallas3 ) == -4000)\n",
    "\n",
    "\n",
    "set_optimizer(m, Cbc.Optimizer)\n",
    "optimize!(m)\n",
    "\n",
    "solution_summary(m,verbose = true)\n",
    "\n",
    "    \n",
    "    \n",
    "    \n",
    "    "
   ]
  },
  {
   "cell_type": "code",
   "execution_count": null,
   "metadata": {},
   "outputs": [],
   "source": []
  }
 ],
 "metadata": {
  "kernelspec": {
   "display_name": "Julia 1.10.0",
   "language": "julia",
   "name": "julia-1.10"
  },
  "language_info": {
   "file_extension": ".jl",
   "mimetype": "application/julia",
   "name": "julia",
   "version": "1.10.0"
  }
 },
 "nbformat": 4,
 "nbformat_minor": 4
}
